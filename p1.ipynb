{
 "cells": [
  {
   "cell_type": "code",
   "execution_count": 1,
   "id": "96d32c46-a9d3-46c2-a054-c7e1c4ae94c5",
   "metadata": {},
   "outputs": [],
   "source": [
    "# project: p1\n",
    "# submitter: xhuang438\n",
    "# partner: none\n",
    "# hours: 8"
   ]
  },
  {
   "cell_type": "code",
   "execution_count": 2,
   "id": "5286de6b-0c3d-4df4-a20b-5c4c6e4f478f",
   "metadata": {},
   "outputs": [],
   "source": [
    "# import statements\n",
    "import copy\n",
    "import json\n",
    "import os\n",
    "import pandas as pd\n",
    "import matplotlib.pyplot as plt\n",
    "import numpy as np\n",
    "import subprocess\n",
    "from subprocess import check_output\n",
    "import time"
   ]
  },
  {
   "cell_type": "code",
   "execution_count": 3,
   "id": "8579c5fc-cec8-442a-b3c8-b45dfa458f8f",
   "metadata": {},
   "outputs": [
    {
     "data": {
      "text/plain": [
       "float"
      ]
     },
     "execution_count": 3,
     "metadata": {},
     "output_type": "execute_result"
    }
   ],
   "source": [
    "#Q1\n",
    "type(7/2)"
   ]
  },
  {
   "cell_type": "code",
   "execution_count": 4,
   "id": "f3e969bd-d8b4-4644-a9bb-af0558009a80",
   "metadata": {},
   "outputs": [
    {
     "data": {
      "text/plain": [
       "True"
      ]
     },
     "execution_count": 4,
     "metadata": {},
     "output_type": "execute_result"
    }
   ],
   "source": [
    "#Q2\n",
    "x = 4\n",
    "maximum = 10\n",
    "minimum = 5\n",
    "error = (4<minimum) or (4>maximum) # True if x is outside the minimum-to-maximum range\n",
    "error"
   ]
  },
  {
   "cell_type": "code",
   "execution_count": 5,
   "id": "bb05beab-ac6a-465b-83dc-2db16f56dedc",
   "metadata": {},
   "outputs": [
    {
     "data": {
      "text/plain": [
       "True"
      ]
     },
     "execution_count": 5,
     "metadata": {},
     "output_type": "execute_result"
    }
   ],
   "source": [
    "#Q3\n",
    "word = \"KAFKAESQUE\"\n",
    "suffix_match = (word.lower()[-5:]==\"esque\")# .endswith(...) method not allowed for this question! (practice slicing)\n",
    "suffix_match"
   ]
  },
  {
   "cell_type": "code",
   "execution_count": 6,
   "id": "14982dec-ec95-4e28-b91f-07ee217b3941",
   "metadata": {},
   "outputs": [
    {
     "data": {
      "text/plain": [
       "False"
      ]
     },
     "execution_count": 6,
     "metadata": {},
     "output_type": "execute_result"
    }
   ],
   "source": [
    "#Q4\n",
    "def check_sum(x = 0, y = 0, sum = 0):\n",
    "    return x + y == sum\n",
    "check_sum(0.1,0.2,0.3)"
   ]
  },
  {
   "cell_type": "code",
   "execution_count": 7,
   "id": "80db11d3-1727-46c6-b61c-a5b5b649170d",
   "metadata": {},
   "outputs": [
    {
     "data": {
      "text/plain": [
       "True"
      ]
     },
     "execution_count": 7,
     "metadata": {},
     "output_type": "execute_result"
    }
   ],
   "source": [
    "#Q5\n",
    "check_sum(-1,1)"
   ]
  },
  {
   "cell_type": "code",
   "execution_count": 8,
   "id": "248ca272-d0c1-4c19-a0ff-0c7a9c417220",
   "metadata": {},
   "outputs": [
    {
     "data": {
      "text/plain": [
       "'even'"
      ]
     },
     "execution_count": 8,
     "metadata": {},
     "output_type": "execute_result"
    }
   ],
   "source": [
    "#Q6\n",
    "x = 4\n",
    "if (x%2 == 1):\n",
    "    status = \"odd\"\n",
    "elif (x%2 == 0):\n",
    "    status = \"even\"\n",
    "else:\n",
    "    status = \"non-integer\"\n",
    "status"
   ]
  },
  {
   "cell_type": "code",
   "execution_count": 9,
   "id": "452b0ff8-96ec-43ef-8ec0-8bbd583e7245",
   "metadata": {},
   "outputs": [
    {
     "data": {
      "text/plain": [
       "14"
      ]
     },
     "execution_count": 9,
     "metadata": {},
     "output_type": "execute_result"
    }
   ],
   "source": [
    "#Q7\n",
    "nums = [3, 4, 1, 6]\n",
    "def smart_sum(list):\n",
    "    total = 0\n",
    "    for num in list:\n",
    "        if(num < 0):\n",
    "            continue\n",
    "        total = total + num\n",
    "        if(total > 20):\n",
    "            break\n",
    "    return total\n",
    "smart_sum(nums)"
   ]
  },
  {
   "cell_type": "code",
   "execution_count": 10,
   "id": "3d2e029e-36f9-4ecc-86a3-6f25a2f4f417",
   "metadata": {},
   "outputs": [
    {
     "data": {
      "text/plain": [
       "21"
      ]
     },
     "execution_count": 10,
     "metadata": {},
     "output_type": "execute_result"
    }
   ],
   "source": [
    "#Q8\n",
    "smart_sum([2, 1, -11, 3, 15, -1, 8, 2])"
   ]
  },
  {
   "cell_type": "code",
   "execution_count": 11,
   "id": "c46ffa16-5812-4f3e-af30-3db93f5c15a3",
   "metadata": {},
   "outputs": [
    {
     "data": {
      "text/plain": [
       "[[1, 6, 7, 8, {'x': 8, 'y': 5}],\n",
       " [3, 4, 9, {'x': 9, 'y': 2, 'z': 4}],\n",
       " [5, 2, {'w': 6, 'x': 3, 'y': 1, 'z': 7}]]"
      ]
     },
     "execution_count": 11,
     "metadata": {},
     "output_type": "execute_result"
    }
   ],
   "source": [
    "#Q9\n",
    "header = [\"A\", \"B\", \"C\"]\n",
    "\n",
    "coord1 = {\"x\": 8, \"y\": 5}\n",
    "coord2 = {\"x\": 9, \"y\": 2, \"z\" : 4}\n",
    "coord3 = {\"w\":6, \"x\": 3, \"y\": 1, \"z\" : 7}\n",
    "\n",
    "rows = [\n",
    "    [1, 6, 7, 8, coord1],\n",
    "    [3, 4, 9, coord2],\n",
    "    [5, 2, coord3],\n",
    "]\n",
    "rows"
   ]
  },
  {
   "cell_type": "code",
   "execution_count": 12,
   "id": "77e41fbb-7297-4b59-a44e-41ee37270c64",
   "metadata": {},
   "outputs": [
    {
     "data": {
      "text/plain": [
       "8"
      ]
     },
     "execution_count": 12,
     "metadata": {},
     "output_type": "execute_result"
    }
   ],
   "source": [
    "#Q10\n",
    "rows[0][4][\"x\"]"
   ]
  },
  {
   "cell_type": "code",
   "execution_count": 13,
   "id": "40f5547d-6dd4-4953-9c87-bf51c1148cd1",
   "metadata": {},
   "outputs": [
    {
     "data": {
      "text/plain": [
       "[[1, 6, 7, 8, {'x': 8, 'y': 5}],\n",
       " [3, 404, 9, {'x': 9, 'y': 2, 'z': 4}],\n",
       " [5, 2, {'w': 6, 'x': 3, 'y': 1, 'z': 7}]]"
      ]
     },
     "execution_count": 13,
     "metadata": {},
     "output_type": "execute_result"
    }
   ],
   "source": [
    "#Q11\n",
    "v2 = copy.copy(rows)\n",
    "v2[0] = 404    # first change NOT reflected\n",
    "v2[1][1] = 404 # second change reflected\n",
    "rows"
   ]
  },
  {
   "cell_type": "code",
   "execution_count": 14,
   "id": "89587cda-0b26-4e73-9cfb-c2c3d0e43dfe",
   "metadata": {},
   "outputs": [
    {
     "data": {
      "text/plain": [
       "412"
      ]
     },
     "execution_count": 14,
     "metadata": {},
     "output_type": "execute_result"
    }
   ],
   "source": [
    "#Q12\n",
    "total = 0\n",
    "for i in range(0,3):\n",
    "    total += rows[i][header.index(\"B\")]\n",
    "total"
   ]
  },
  {
   "cell_type": "code",
   "execution_count": 15,
   "id": "30e7fe69-b9fa-4c46-9f98-1bec66d6c8df",
   "metadata": {},
   "outputs": [
    {
     "data": {
      "text/plain": [
       "[[5, 2, {'w': 6, 'x': 3, 'y': 1, 'z': 7}],\n",
       " [1, 6, 7, 8, {'x': 8, 'y': 5}],\n",
       " [3, 404, 9, {'x': 9, 'y': 2, 'z': 4}]]"
      ]
     },
     "execution_count": 15,
     "metadata": {},
     "output_type": "execute_result"
    }
   ],
   "source": [
    "#Q13\n",
    "rows.sort(key=lambda row: row[header.index(\"B\")], reverse=False)\n",
    "rows"
   ]
  },
  {
   "cell_type": "code",
   "execution_count": 16,
   "id": "9bdc3e79-bda7-46de-a3ff-18589ab0bbeb",
   "metadata": {},
   "outputs": [
    {
     "data": {
      "text/plain": [
       "1344.97"
      ]
     },
     "execution_count": 16,
     "metadata": {},
     "output_type": "execute_result"
    }
   ],
   "source": [
    "#Q14\n",
    "f = open(\"usd.json\")\n",
    "data = json.load(f)\n",
    "f.close()\n",
    "round(data.get(\"cad\").get(\"rate\")*1000,2)"
   ]
  },
  {
   "cell_type": "code",
   "execution_count": 17,
   "id": "b8db0e92-1b4c-4367-aefd-720be508b07c",
   "metadata": {},
   "outputs": [
    {
     "data": {
      "text/plain": [
       "1.5"
      ]
     },
     "execution_count": 17,
     "metadata": {},
     "output_type": "execute_result"
    }
   ],
   "source": [
    "#Q15\n",
    "def divide(a,b):\n",
    "    try:\n",
    "        return a/b\n",
    "    except ZeroDivisionError:\n",
    "        return float(\"nan\")\n",
    "divide (3, 2)"
   ]
  },
  {
   "cell_type": "code",
   "execution_count": 18,
   "id": "a789f703-7fc0-4180-bc1a-cf1e2f0ecfde",
   "metadata": {},
   "outputs": [
    {
     "data": {
      "text/plain": [
       "nan"
      ]
     },
     "execution_count": 18,
     "metadata": {},
     "output_type": "execute_result"
    }
   ],
   "source": [
    "#Q16\n",
    "divide(0,0)"
   ]
  },
  {
   "cell_type": "code",
   "execution_count": 19,
   "id": "63f659f4-0ff9-4e41-9444-baae65889f3e",
   "metadata": {},
   "outputs": [
    {
     "data": {
      "text/plain": [
       "[2017, 2018, 2019, 2020, 2021]"
      ]
     },
     "execution_count": 19,
     "metadata": {},
     "output_type": "execute_result"
    }
   ],
   "source": [
    "#Q17\n",
    "file = os.listdir(\"/home/jehrenstoneman/CS320-FA23/p1/home-computers\")\n",
    "pc2017 = pd.read_csv(\"/home/jehrenstoneman/CS320-FA23/p1/home-computers/ACSDT5Y2017.B28001-Data.csv\").set_index(\"NAME\").tail(-1)\n",
    "pc2018 = pd.read_csv(\"/home/jehrenstoneman/CS320-FA23/p1/home-computers/ACSDT5Y2018.B28001-Data.csv\").set_index(\"NAME\").tail(-1)\n",
    "pc2019 = pd.read_csv(\"/home/jehrenstoneman/CS320-FA23/p1/home-computers/ACSDT5Y2019.B28001-Data.csv\").set_index(\"NAME\").tail(-1)\n",
    "pc2020 = pd.read_csv(\"/home/jehrenstoneman/CS320-FA23/p1/home-computers/ACSDT5Y2020.B28001-Data.csv\").set_index(\"NAME\").tail(-1)\n",
    "pc2021 = pd.read_csv(\"/home/jehrenstoneman/CS320-FA23/p1/home-computers/ACSDT5Y2021.B28001-Data.csv\").set_index(\"NAME\").tail(-1)\n",
    "\n",
    "pc = [] # each year's csv as values\n",
    "\n",
    "pc.append(pc2017)\n",
    "pc.append(pc2018)\n",
    "pc.append(pc2019)\n",
    "pc.append(pc2020)\n",
    "pc.append(pc2021)\n",
    "\n",
    "years = {}\n",
    "year = []  # year as keys\n",
    "temp = []\n",
    "for item in file:\n",
    "    CSVfile = item.split(\".\")[-1]==\"csv\"\n",
    "    if CSVfile:\n",
    "        temp.append(item)\n",
    "for item in temp:\n",
    "    year.append(item.split(\".\")[0][-4:])\n",
    "year.sort()\n",
    "for key in year:\n",
    "    for val in pc:\n",
    "        years[key] = val\n",
    "        pc.remove(val)\n",
    "        break\n",
    "        \n",
    "result = list(years.keys())\n",
    "[eval(i) for i in result]"
   ]
  },
  {
   "cell_type": "code",
   "execution_count": 20,
   "id": "93c13bd3-b558-431f-a97d-91174df480b4",
   "metadata": {},
   "outputs": [
    {
     "data": {
      "text/plain": [
       "2401818"
      ]
     },
     "execution_count": 20,
     "metadata": {},
     "output_type": "execute_result"
    }
   ],
   "source": [
    "#Q18\n",
    "int(years['2021'].loc['Wisconsin']['B28001_001E'])"
   ]
  },
  {
   "cell_type": "code",
   "execution_count": 21,
   "id": "129ccc74-c01c-4473-9a72-db823aa4d2b1",
   "metadata": {},
   "outputs": [
    {
     "data": {
      "text/plain": [
       "8902093"
      ]
     },
     "execution_count": 21,
     "metadata": {},
     "output_type": "execute_result"
    }
   ],
   "source": [
    "#Q19\n",
    "pc2021['B28001_011E'] = pc2021['B28001_011E'].astype('int')\n",
    "pc2021['B28001_011E'].sum()"
   ]
  },
  {
   "cell_type": "code",
   "execution_count": 22,
   "id": "ca5051d2-4fbc-46b0-9c3e-c87417dd0223",
   "metadata": {},
   "outputs": [
    {
     "data": {
      "text/plain": [
       "0.07836701790752577"
      ]
     },
     "execution_count": 22,
     "metadata": {},
     "output_type": "execute_result"
    }
   ],
   "source": [
    "#Q20\n",
    "pc2021['B28001_011M'] = pc2021['B28001_011M'].astype('int')\n",
    "(pc2021['B28001_011M'] / pc2021['B28001_011E']).max()"
   ]
  },
  {
   "cell_type": "code",
   "execution_count": 23,
   "id": "a4773e95-7877-4a3d-a1b3-8773debcc704",
   "metadata": {},
   "outputs": [
    {
     "data": {
      "text/plain": [
       "{'Illinois': 7.351100500886871,\n",
       " 'Indiana': 8.300995843439395,\n",
       " 'Iowa': 8.302263591069158,\n",
       " 'Michigan': 7.579772219831928,\n",
       " 'Minnesota': 6.1777398950248985,\n",
       " 'Wisconsin': 8.029750797104526}"
      ]
     },
     "execution_count": 23,
     "metadata": {},
     "output_type": "execute_result"
    }
   ],
   "source": [
    "#Q21\n",
    "pc2021['B28001_001E'] = pc2021['B28001_001E'].astype('int')\n",
    "keyList = [\"Illinois\", \"Indiana\", \"Iowa\", \"Michigan\", \"Minnesota\", \"Wisconsin\"]\n",
    "ans = {}\n",
    "for i in keyList:\n",
    "    ans[i] = None\n",
    "\n",
    "Illinois = pc2021.loc[\"Illinois\"]['B28001_011E'] / pc2021.loc[\"Illinois\"]['B28001_001E'] * 100\n",
    "Indiana = pc2021.loc[\"Indiana\"]['B28001_011E'] / pc2021.loc[\"Indiana\"]['B28001_001E'] * 100\n",
    "Iowa = pc2021.loc[\"Iowa\"]['B28001_011E'] / pc2021.loc[\"Iowa\"]['B28001_001E'] * 100\n",
    "Michigan = pc2021.loc[\"Michigan\"]['B28001_011E'] / pc2021.loc[\"Michigan\"]['B28001_001E'] * 100\n",
    "Minnesota = pc2021.loc[\"Minnesota\"]['B28001_011E'] / pc2021.loc[\"Minnesota\"]['B28001_001E'] * 100\n",
    "Wisconsin = pc2021.loc[\"Wisconsin\"]['B28001_011E'] / pc2021.loc[\"Wisconsin\"]['B28001_001E'] * 100\n",
    "\n",
    "ans['Illinois'] = Illinois\n",
    "ans['Indiana'] = Indiana\n",
    "ans['Iowa'] = Iowa\n",
    "ans['Michigan'] = Michigan\n",
    "ans['Minnesota'] = Minnesota\n",
    "ans['Wisconsin'] = Wisconsin\n",
    "\n",
    "ans"
   ]
  },
  {
   "cell_type": "code",
   "execution_count": 24,
   "id": "f42574c1-6c3a-483b-9622-a85b93b4f0fc",
   "metadata": {},
   "outputs": [
    {
     "data": {
      "image/png": "[encoded data removed]",
      "text/plain": [
       "<Figure size 640x480 with 1 Axes>"
      ]
     },
     "metadata": {},
     "output_type": "display_data"
    }
   ],
   "source": [
    "#Q22\n",
    "# df = pd.DataFrame({'Geographic Area Name':['Illinois', 'Indiana', 'Iowa', 'Michigan', 'Minnesota', 'Wisconsin'], \n",
    "#                    '% of Households w/o Computers':[Illinois, Indiana, Iowa, Michigan, Minnesota, Wisconsin]})\n",
    "# df.plot.bar(x = 'Geographic Area Name', y = '% of Households w/o Computers', rot=0)\n",
    "plt.bar(*zip(*ans.items()))\n",
    "plt.xlabel(\"Geographic Area Name\")\n",
    "plt.ylabel(\"% of Households w/o Computers\")\n",
    "plt.show()"
   ]
  },
  {
   "cell_type": "code",
   "execution_count": 25,
   "id": "46c3d5c3-bf7e-4d75-b50f-0316611e6ea7",
   "metadata": {},
   "outputs": [
    {
     "data": {
      "image/png": "[encoded data removed]",
      "text/plain": [
       "<Figure size 640x480 with 1 Axes>"
      ]
     },
     "metadata": {},
     "output_type": "display_data"
    }
   ],
   "source": [
    "#Q23\n",
    "no_pc2017 = int(pc2017.loc[\"Wisconsin\"][\"B28001_011E\"])/1000\n",
    "no_pc2018 = int(pc2018.loc[\"Wisconsin\"][\"B28001_011E\"])/1000\n",
    "no_pc2019 = int(pc2019.loc[\"Wisconsin\"][\"B28001_011E\"])/1000\n",
    "no_pc2020 = int(pc2020.loc[\"Wisconsin\"][\"B28001_011E\"])/1000\n",
    "no_pc2021 = int(pc2021.loc[\"Wisconsin\"][\"B28001_011E\"])/1000\n",
    "year = [\"2017\", \"2018\", \"2019\", \"2020\", \"2021\"]\n",
    "no_pc = [no_pc2017, no_pc2018, no_pc2019, no_pc2020, no_pc2021]\n",
    "plt.plot(year, no_pc)\n",
    "plt.xlabel(\"Year\")\n",
    "plt.ylabel(\"WI Households without Computers (thousands)\")\n",
    "plt.show()"
   ]
  },
  {
   "cell_type": "code",
   "execution_count": 26,
   "id": "8db8b895-1eb5-4480-834c-1f01d1a45152",
   "metadata": {},
   "outputs": [
    {
     "data": {
      "image/png": "[encoded data removed]",
      "text/plain": [
       "<Figure size 640x480 with 1 Axes>"
      ]
     },
     "metadata": {},
     "output_type": "display_data"
    }
   ],
   "source": [
    "#Q24\n",
    "pc2021['B28001_005E'] = pc2021['B28001_005E'].astype('int')\n",
    "pc2021['B28001_007E'] = pc2021['B28001_007E'].astype('int')\n",
    "\n",
    "pc2021smartphones = (pc2021['B28001_005E'] / 1e6).to_numpy()\n",
    "pc2021tablets = (pc2021['B28001_007E'] / 1e6).to_numpy()\n",
    "\n",
    "plt.scatter(pc2021smartphones,pc2021tablets)\n",
    "plt.xlabel(\"Smartphones (millions)\")\n",
    "plt.ylabel(\"Tablets (millions)\")\n",
    "plt.show()"
   ]
  },
  {
   "cell_type": "code",
   "execution_count": 27,
   "id": "8c8108cd-c2bf-469a-8d6a-fd68797c843b",
   "metadata": {},
   "outputs": [
    {
     "name": "stderr",
     "output_type": "stream",
     "text": [
      "Already on 'main'\n"
     ]
    },
    {
     "data": {
      "text/plain": [
       "'commit 660994efc761efdfd49ca442b73f6712dc77b6cf'"
      ]
     },
     "execution_count": 27,
     "metadata": {},
     "output_type": "execute_result"
    }
   ],
   "source": [
    "#Q25\n",
    "check_output([\"git\",\"checkout\",\"main\"], cwd = \"flask\")\n",
    "log = str(check_output([\"git\",\"log\"], cwd = \"flask\"), encoding = \"utf-8\").split(\"\\n\")\n",
    "log[0]"
   ]
  },
  {
   "cell_type": "code",
   "execution_count": 28,
   "id": "ad1e92b8-9abc-420c-bc24-a7a8038e8b05",
   "metadata": {},
   "outputs": [
    {
     "data": {
      "text/plain": [
       "['a9d4ea81da28ee9c894bf9d45adc4cfa9d52fddc',\n",
       " '727c701686c18c4a27ca523eb0c5862d497be24e',\n",
       " '4edec48b74dbb9d571e927b69b24c30ec0624975',\n",
       " '625eba4bb403296a8bbc1e72cc9cf4a5126f6c02',\n",
       " '4aa76212d1be9b17a57249549c2a73fb10b6cda8',\n",
       " '3b36bef2e6165bb4dad73d17f23ee1879e99f497',\n",
       " '44b42e0fbd93d86e0f4e929bda8e5fb63e81035d',\n",
       " '4ec7d2a0d8eac4f915dc0d38a886cd57045bb0c4',\n",
       " 'b15ad394279fc3b7f998fa56857f334a7c0156f6',\n",
       " '33850c0ebd23ae615e6823993d441f46d80b1ff0']"
      ]
     },
     "execution_count": 28,
     "metadata": {},
     "output_type": "execute_result"
    }
   ],
   "source": [
    "#Q26\n",
    "commits = []\n",
    "for elem in log:\n",
    "    if elem[:6] == \"commit\":\n",
    "        commits.append(elem[7:])\n",
    "commits[-10:]"
   ]
  },
  {
   "cell_type": "code",
   "execution_count": 29,
   "id": "e5dd8840-4410-4a40-b17b-bd9fe697735d",
   "metadata": {},
   "outputs": [
    {
     "name": "stderr",
     "output_type": "stream",
     "text": [
      "Note: switching to 'f878919753a909e45b2d5448aa175f4f9129ff24'.\n",
      "\n",
      "You are in 'detached HEAD' state. You can look around, make experimental\n",
      "changes and commit them, and you can discard any commits you make in this\n",
      "state without impacting any branches by switching back to a branch.\n",
      "\n",
      "If you want to create a new branch to retain commits you create, you may\n",
      "do so (now or later) by using -c with the switch command. Example:\n",
      "\n",
      "  git switch -c <new-branch-name>\n",
      "\n",
      "Or undo this operation with:\n",
      "\n",
      "  git switch -\n",
      "\n",
      "Turn off this advice by setting config variable advice.detachedHead to false\n",
      "\n",
      "HEAD is now at f8789197 With -> with in headline\n"
     ]
    },
    {
     "data": {
      "text/plain": [
       "\"\\n                          // Flask //\\n\\n         because sometimes a pocket knife is not enough\\n\\n\\n    ~ What is Flask?\\n\\n      Flask is a microframework for Python based on Werkzeug\\n      and Jinja2.  It's intended for small scale applications\\n      and was development with best intentions in mind.\\n\\n    ~ Is it ready?\\n\\n      A preview release is out now, and I'm hoping for some\\n      input about what you want from a microframework and\\n      how it should look like.  Consider the API to slightly\\n      improve over time.\\n\\n    ~ What do I need?\\n\\n      Jinja 2.4 and Werkzeug 0.6.1.  `easy_install` will\\n      install them for you if you do `easy_install Flask==dev`.\\n      I encourage you to use a virtualenv.  Check the docs for\\n      complete installation and usage instructions.\\n\\n    ~ Where are the docs?\\n\\n      Go to http://flask.pocoo.org/ for a prebuild version of\\n      the current documentation.  Otherwise build them yourself\\n      from the sphinx sources in the docs folder.\\n\""
      ]
     },
     "execution_count": 29,
     "metadata": {},
     "output_type": "execute_result"
    }
   ],
   "source": [
    "#Q27\n",
    "check_output([\"git\", \"checkout\", commits[-100]], cwd = \"flask\")\n",
    "f = open(\"flask/README\",\"r\")\n",
    "f.read()"
   ]
  },
  {
   "cell_type": "code",
   "execution_count": 30,
   "id": "c6bf00b0-a5ca-4b09-8b94-a1a9577d0558",
   "metadata": {},
   "outputs": [
    {
     "name": "stderr",
     "output_type": "stream",
     "text": [
      "Previous HEAD position was f8789197 With -> with in headline\n",
      "Switched to branch 'main'\n"
     ]
    },
    {
     "data": {
      "text/plain": [
       "{'pallets': 204,\n",
       " 'pgjones': 14,\n",
       " 'greyli': 42,\n",
       " 'ThiefMaster': 11,\n",
       " 'davidism': 45,\n",
       " 'untitaker': 20,\n",
       " 'ThomasWaldmann': 13,\n",
       " 'SimonSapin': 11}"
      ]
     },
     "execution_count": 30,
     "metadata": {},
     "output_type": "execute_result"
    }
   ],
   "source": [
    "#Q28\n",
    "result = {}\n",
    "check_output([\"git\",\"checkout\",\"main\"], cwd = \"flask\")\n",
    "log = str(check_output([\"git\",\"log\"], cwd = \"flask\"), encoding = \"utf-8\").split(\"\\n\")\n",
    "for elements in log:\n",
    "    if((\"Merge pull request\" in elements) and (\"/\" in elements)):\n",
    "        index = elements.find(\"/\")\n",
    "        index2 = elements.find(\"from\")\n",
    "        if(elements[(index2 + 5) : index] not in result.keys()):\n",
    "            result[elements[(index2 + 5) : index]] = 1\n",
    "        else:\n",
    "            result[elements[(index2 + 5) : index]] += 1\n",
    "result = {key:value for (key, value) in result.items() if value >= 10}\n",
    "result"
   ]
  },
  {
   "cell_type": "code",
   "execution_count": 31,
   "id": "5f03f85b-c240-4ae0-8f16-4306567da327",
   "metadata": {},
   "outputs": [
    {
     "data": {
      "text/plain": [
       "'ERROR: unknown command \"instal\" - maybe you meant \"install\"\\n'"
      ]
     },
     "execution_count": 31,
     "metadata": {},
     "output_type": "execute_result"
    }
   ],
   "source": [
    "#Q29\n",
    "try:\n",
    "    msg = check_output([\"pip3\", \"instal\"], stderr=subprocess.STDOUT)\n",
    "except subprocess.CalledProcessError as e:\n",
    "    msg = e.output\n",
    "msg.decode()"
   ]
  },
  {
   "cell_type": "code",
   "execution_count": 32,
   "id": "7ea1c467-7165-47e8-825e-ec8fed54be8e",
   "metadata": {},
   "outputs": [
    {
     "data": {
      "image/png": "[encoded data removed]",
      "text/plain": [
       "<Figure size 640x480 with 1 Axes>"
      ]
     },
     "metadata": {},
     "output_type": "display_data"
    }
   ],
   "source": [
    "#Q30\n",
    "def rand_df(rows):\n",
    "    return pd.DataFrame(np.random.randint(10, size=(rows, 5)),\n",
    "                        columns=[\"A\", \"B\", \"C\", \"D\", \"E\"],\n",
    "                        index=[f\"r{i}\" for i in range(1, rows+1)])\n",
    "num_rows = [*range(1000,5001,1000)]\n",
    "runtimeiterrows = []\n",
    "runtimeitertuples = []\n",
    "for elements in num_rows:\n",
    "    df = rand_df(elements)\n",
    "    t0 = time.time()\n",
    "    for row in df.iterrows():\n",
    "        pass\n",
    "    t1 = time.time()\n",
    "    runtimeiterrows.append((t1-t0)*1e3)\n",
    "\n",
    "for elements in num_rows:\n",
    "    df = rand_df(elements)\n",
    "    t0 = time.time()\n",
    "    for row in df.itertuples():\n",
    "        pass\n",
    "    t1 = time.time()\n",
    "    runtimeitertuples.append((t1-t0)*1e3)\n",
    "\n",
    "times_df = pd.DataFrame(dtype=float)\n",
    "\n",
    "for i in range(0, 5):\n",
    "    times_df.at[num_rows[i],\"iterrows\"] = runtimeiterrows[i]\n",
    "    times_df.at[num_rows[i],\"itertuples\"] = runtimeitertuples[i]\n",
    "ans = times_df.plot.line()\n",
    "ans.set_xlabel(\"Rows\")\n",
    "ans.set_ylabel(\"Milliseconds\")\n",
    "plt.show()"
   ]
  },
  {
   "cell_type": "code",
   "execution_count": 33,
   "id": "aef72ebb-1dd3-4cd9-80cf-ebf82b8467c7",
   "metadata": {},
   "outputs": [
    {
     "data": {
      "image/png": "[encoded data removed]",
      "text/plain": [
       "<Figure size 640x480 with 1 Axes>"
      ]
     },
     "metadata": {},
     "output_type": "display_data"
    }
   ],
   "source": [
    "#Q31\n",
    "runtimeloc = []\n",
    "runtimeat = []\n",
    "\n",
    "for elements in num_rows:\n",
    "    df = rand_df(elements)\n",
    "    t0 = time.time()\n",
    "    total = 0\n",
    "    for idx in df.index:\n",
    "        for col in df.columns:\n",
    "            total += df.loc[idx, col]\n",
    "    total\n",
    "    t1 = time.time()\n",
    "    runtimeloc.append((t1-t0)*1e3)\n",
    "\n",
    "for elements in num_rows:\n",
    "    df = rand_df(elements)\n",
    "    t0 = time.time()\n",
    "    total = 0\n",
    "    for idx in df.index:\n",
    "        for col in df.columns:\n",
    "            total += df.at[idx, col]\n",
    "    total\n",
    "    t1 = time.time()\n",
    "    runtimeat.append((t1-t0)*1e3)\n",
    "\n",
    "times_df = pd.DataFrame(dtype=float)\n",
    "\n",
    "for i in range(0, 5):\n",
    "    times_df.at[num_rows[i],\"loc\"] = runtimeloc[i]\n",
    "    times_df.at[num_rows[i],\"at\"] = runtimeat[i]\n",
    "ans = times_df.plot.line()\n",
    "ans.set_xlabel(\"Rows\")\n",
    "ans.set_ylabel(\"Milliseconds\")\n",
    "plt.show()"
   ]
  },
  {
   "cell_type": "code",
   "execution_count": 34,
   "id": "0e9a67fb-54a4-4fc6-bc60-8e538e8ed1c5",
   "metadata": {},
   "outputs": [
    {
     "data": {
      "image/png": "[encoded data removed]",
      "text/plain": [
       "<Figure size 640x480 with 1 Axes>"
      ]
     },
     "metadata": {},
     "output_type": "display_data"
    }
   ],
   "source": [
    "#Q32\n",
    "num_rows_new = [*range(1000,20001,1000)]\n",
    "def laugh(x):\n",
    "    return \"qwerty\" * x\n",
    "runtimeloop = []\n",
    "runtimeapply = []\n",
    "for elements in num_rows_new:\n",
    "    df = rand_df(elements)\n",
    "    t0 = time.time()\n",
    "    result = []\n",
    "    for val in df[\"A\"]:\n",
    "        result.append(laugh(val))\n",
    "    t1 = time.time()\n",
    "    runtimeloop.append((t1-t0)*1e3)\n",
    "\n",
    "for elements in num_rows_new:\n",
    "    df = rand_df(elements)\n",
    "    t0 = time.time()\n",
    "    result = df[\"A\"].apply(laugh).tolist()\n",
    "    t1 = time.time()\n",
    "    runtimeapply.append((t1-t0)*1e3)\n",
    "\n",
    "times_df = pd.DataFrame(dtype=float)\n",
    "\n",
    "for i in range(0, 20):\n",
    "    times_df.at[num_rows_new[i],\"loop\"] = runtimeloop[i]\n",
    "    times_df.at[num_rows_new[i],\".apply\"] = runtimeapply[i]\n",
    "ans = times_df.plot.line()\n",
    "ans.set_xlabel(\"Rows\")\n",
    "ans.set_ylabel(\"Milliseconds\")\n",
    "plt.show()"
   ]
  }
 ],
 "metadata": {
  "kernelspec": {
   "display_name": "Python 3 (ipykernel)",
   "language": "python",
   "name": "python3"
  },
  "language_info": {
   "codemirror_mode": {
    "name": "ipython",
    "version": 3
   },
   "file_extension": ".py",
   "mimetype": "text/x-python",
   "name": "python",
   "nbconvert_exporter": "python",
   "pygments_lexer": "ipython3",
   "version": "3.10.12"
  }
 },
 "nbformat": 4,
 "nbformat_minor": 5
}
